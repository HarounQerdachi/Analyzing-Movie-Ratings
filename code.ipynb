{
 "cells": [
  {
   "cell_type": "markdown",
   "id": "b2a9008a-7ff3-4117-a68a-46086e7c8441",
   "metadata": {},
   "source": [
    "# Analyzing Movie Ratings"
   ]
  },
  {
   "cell_type": "code",
   "execution_count": 2,
   "id": "97b522c0-9cb2-44ce-926d-288d6669aaf5",
   "metadata": {},
   "outputs": [],
   "source": [
    "import pandas as pd"
   ]
  },
  {
   "cell_type": "code",
   "execution_count": 7,
   "id": "8c14072b-c888-4aab-815e-acbc9be60c14",
   "metadata": {},
   "outputs": [],
   "source": [
    "# Data is already cleaned\n",
    "df = pd.read_csv(\"Best Movies Netflix.csv\")"
   ]
  },
  {
   "cell_type": "code",
   "execution_count": null,
   "id": "6bbed8c3-134b-41df-8d2b-4f02ef301b31",
   "metadata": {},
   "outputs": [],
   "source": []
  },
  {
   "cell_type": "code",
   "execution_count": null,
   "id": "20590f41-957b-4f66-ac3f-683defc95e20",
   "metadata": {},
   "outputs": [],
   "source": []
  },
  {
   "cell_type": "code",
   "execution_count": null,
   "id": "854d2b5a-0f5d-47d0-9271-9fbe28a92dc1",
   "metadata": {},
   "outputs": [],
   "source": []
  },
  {
   "cell_type": "code",
   "execution_count": null,
   "id": "7f853cb8-a18c-4466-9c7b-5119805a333e",
   "metadata": {},
   "outputs": [],
   "source": []
  }
 ],
 "metadata": {
  "kernelspec": {
   "display_name": "Python 3 (ipykernel)",
   "language": "python",
   "name": "python3"
  },
  "language_info": {
   "codemirror_mode": {
    "name": "ipython",
    "version": 3
   },
   "file_extension": ".py",
   "mimetype": "text/x-python",
   "name": "python",
   "nbconvert_exporter": "python",
   "pygments_lexer": "ipython3",
   "version": "3.11.0"
  }
 },
 "nbformat": 4,
 "nbformat_minor": 5
}
